{
 "cells": [
  {
   "cell_type": "code",
   "execution_count": 13,
   "metadata": {},
   "outputs": [
    {
     "name": "stdout",
     "output_type": "stream",
     "text": [
      "Populating the interactive namespace from numpy and matplotlib\n",
      "The autoreload extension is already loaded. To reload it, use:\n",
      "  %reload_ext autoreload\n"
     ]
    }
   ],
   "source": [
    "# Imports\n",
    "import os\n",
    "import sys\n",
    "# ML Libraries\n",
    "import matplotlib.pyplot as plt\n",
    "import torch\n",
    "import torch.nn as nn\n",
    "import torch.functional as F\n",
    "# Protein Analysis Libaries\n",
    "import MDAnalysis as mda\n",
    "import nglview as nv\n",
    "from nglview.datafiles import PDB, XTC\n",
    "from pyrosetta import *\n",
    "from pyrosetta.toolbox import *\n",
    "from pyrosetta.rosetta.core.scoring import ScoreType\n",
    "from pyrosetta.rosetta.core.chemical import AtomTypeSet\n",
    "# Custom Libraries\n",
    "from mol_processors.PDB_processor import download_pdb, get_coords, pdb_to_intcoords, visualize_protein\n",
    "from mol_processors.Protein import Prot\n",
    "from utils import write_array\n",
    "%pylab inline\n",
    "%load_ext autoreload \n",
    "%autoreload 2\n",
    "np.set_printoptions(suppress=True)"
   ]
  },
  {
   "cell_type": "code",
   "execution_count": 14,
   "metadata": {},
   "outputs": [
    {
     "name": "stdout",
     "output_type": "stream",
     "text": [
      "PyRosetta-4 2021 [Rosetta PyRosetta4.conda.linux.cxx11thread.serialization.CentOS.python38.Release 2021.20+release.47c4f8c41a32caced161a9246b20be0a5c576b75 2021-05-18T09:24:24] retrieved from: http://www.pyrosetta.org\n",
      "(C) Copyright Rosetta Commons Member Institutions. Created in JHU by Sergey Lyskov and PyRosetta Team.\n",
      "\u001b[0mcore.init: {0} \u001b[0mChecking for fconfig files in pwd and ./rosetta/flags\n",
      "\u001b[0mcore.init: {0} \u001b[0mRosetta version: PyRosetta4.conda.linux.cxx11thread.serialization.CentOS.python38.Release r283 2021.20+release.47c4f8c 47c4f8c41a32caced161a9246b20be0a5c576b75 http://www.pyrosetta.org 2021-05-18T09:24:24\n",
      "\u001b[0mcore.init: {0} \u001b[0mcommand: PyRosetta -ex1 -ex2aro -database /home/conradli/anaconda3/envs/assemble/lib/python3.8/site-packages/pyrosetta/database\n",
      "\u001b[0mbasic.random.init_random_generator: {0} \u001b[0m'RNG device' seed mode, using '/dev/urandom', seed=970251423 seed_offset=0 real_seed=970251423 thread_index=0\n",
      "\u001b[0mbasic.random.init_random_generator: {0} \u001b[0mRandomGenerator:init: Normal mode, seed=970251423 RG_type=mt19937\n",
      "Loading pdb id into Rosetta\n",
      "\u001b[0mcore.import_pose.import_pose: {0} \u001b[0mFile '1BDD.clean.pdb' automatically determined to be of type PDB\n",
      "\u001b[0mcore.io.pose_from_sfr.PoseFromSFRBuilder: {0} \u001b[0m\u001b[1m[ WARNING ]\u001b[0m discarding 3 atoms at position 1 in file 1BDD.clean.pdb. Best match rsd_type:  THR:NtermProteinFull\n",
      "1       9       17      25      33      41      49      57      \n",
      "TADNKFNKEQQNAFYEILHLPNLNEEQRNGFIQSLKDDPSQSANLLAEAKKLNDAQAPKA\n",
      "LLLLLLLLLHHHHHHHHHHLLLLLHHHHHHHHHHHHHLLLLHHHHHHHHHHHHHHHLLLL\n",
      "\n",
      "\n",
      "\u001b[0mcore.scoring.ScoreFunctionFactory: {0} \u001b[0mSCOREFUNCTION: \u001b[32mref2015\u001b[0m\n"
     ]
    }
   ],
   "source": [
    "# Initialize Rosetta\n",
    "init()\n",
    "# Define some constants\n",
    "PDB_DIR = \"./data/1BDD/\"\n",
    "OCTREE_DIR = \"./Octree\"\n",
    "# Define some parameters\n",
    "pdb_id = \"1bdd\" # The pdb id of the input protein\n",
    "dcd_file = \"\"\n",
    "pdb_init_file = PDB_DIR + \"1bdd_pnon.pdb\"\n",
    "pdb_out_file = PDB_DIR + \"1cq0_pnon-outo.pdb\"\n",
    "psf_file = PDB_DIR + \"1cq0_pnon.psf\"\n",
    "# Set flags\n",
    "download_protein = True # Flag to download protein\n",
    "test_prot = Prot(pdb_id=pdb_id)"
   ]
  },
  {
   "cell_type": "code",
   "execution_count": 18,
   "metadata": {},
   "outputs": [
    {
     "name": "stdout",
     "output_type": "stream",
     "text": [
      "\u001b[0mcore.scoring.hbonds.HBondSet: {0} \u001b[0m#Dch Dn Dres Da  Ach An Ares Aa  length AHDang BAHang  BAtor weight energy\n",
      "\u001b[0mcore.scoring.hbonds.HBondSet: {0} \u001b[0m#A    9  GLU  N  A   10  GLN  OE1  2.27  152.6  112.2  -99.2  0.718 -0.187\n",
      "\u001b[0mcore.scoring.hbonds.HBondSet: {0} \u001b[0m#A   13  ALA  N  A    9  GLU  O    1.72  148.0  165.7  -47.1  1.000 -0.340\n",
      "\u001b[0mcore.scoring.hbonds.HBondSet: {0} \u001b[0m#A   14  PHE  N  A   10  GLN  O    1.87  153.8  129.4  -74.4  1.000 -0.826\n",
      "\u001b[0mcore.scoring.hbonds.HBondSet: {0} \u001b[0m#A   15  TYR  N  A   11  GLN  O    2.43  156.6  172.8 -132.9  1.000 -0.432\n",
      "\u001b[0mcore.scoring.hbonds.HBondSet: {0} \u001b[0m#A   16  GLU  N  A   12  ASN  O    2.49  127.1  136.9 -135.4  1.000 -0.038\n",
      "\u001b[0mcore.scoring.hbonds.HBondSet: {0} \u001b[0m#A   16  GLU  N  A   13  ALA  O    1.75  129.7  111.6 -104.0  1.000 -0.002\n",
      "\u001b[0mcore.scoring.hbonds.HBondSet: {0} \u001b[0m#A   17  ILE  N  A   13  ALA  O    2.00  147.5  152.0   89.2  1.000 -0.676\n",
      "\u001b[0mcore.scoring.hbonds.HBondSet: {0} \u001b[0m#A   18  LEU  N  A   14  PHE  O    2.42  155.1  171.7 -148.1  1.000 -0.444\n",
      "\u001b[0mcore.scoring.hbonds.HBondSet: {0} \u001b[0m#A   19  HIS  N  A   16  GLU  O    2.27  108.0  142.5 -160.8  1.000 -0.163\n",
      "\u001b[0mcore.scoring.hbonds.HBondSet: {0} \u001b[0m#A   23  LEU  N  A   20  LEU  O    2.49  159.2  127.3  -99.3  1.000 -0.362\n",
      "\u001b[0mcore.scoring.hbonds.HBondSet: {0} \u001b[0m#A   27  GLN  N  A   24  ASN  OD1  2.32  163.8  159.5   18.1  0.412 -0.543\n",
      "\u001b[0mcore.scoring.hbonds.HBondSet: {0} \u001b[0m#A   28  ARG  N  A   24  ASN  O    2.44  157.2  144.9 -134.0  1.000 -0.750\n",
      "\u001b[0mcore.scoring.hbonds.HBondSet: {0} \u001b[0m#A   28  ARG  NH2A   25  GLU  OE2  2.07  130.7   96.8   59.3  0.671 -0.077\n",
      "\u001b[0mcore.scoring.hbonds.HBondSet: {0} \u001b[0m#A   29  ASN  N  A   25  GLU  O    1.68  130.5  119.5  -34.6  1.000 -0.458\n",
      "\u001b[0mcore.scoring.hbonds.HBondSet: {0} \u001b[0m#A   31  PHE  N  A   27  GLN  O    2.53  141.9  155.9  179.6  1.000 -0.249\n",
      "\u001b[0mcore.scoring.hbonds.HBondSet: {0} \u001b[0m#A   32  ILE  N  A   28  ARG  O    2.60  152.7  164.8  134.8  1.000 -0.037\n",
      "\u001b[0mcore.scoring.hbonds.HBondSet: {0} \u001b[0m#A   33  GLN  N  A   29  ASN  O    1.79  123.4  135.0 -119.3  1.000 -0.081\n",
      "\u001b[0mcore.scoring.hbonds.HBondSet: {0} \u001b[0m#A   34  SER  N  A   30  GLY  O    2.52  140.9  149.7 -134.0  1.000 -0.121\n",
      "\u001b[0mcore.scoring.hbonds.HBondSet: {0} \u001b[0m#A   34  SER  N  A   31  PHE  O    1.91  140.6  116.5 -105.6  1.000 -0.533\n",
      "\u001b[0mcore.scoring.hbonds.HBondSet: {0} \u001b[0m#A   35  LEU  N  A   31  PHE  O    2.53  142.0  126.3  177.2  1.000 -0.953\n",
      "\u001b[0mcore.scoring.hbonds.HBondSet: {0} \u001b[0m#A   36  LYS  N  A   32  ILE  O    2.13  154.1  172.5   40.3  1.000 -0.810\n",
      "\u001b[0mcore.scoring.hbonds.HBondSet: {0} \u001b[0m#A   37  ASP  N  A   33  GLN  O    2.28  152.8  134.9 -104.5  1.000 -0.644\n",
      "\u001b[0mcore.scoring.hbonds.HBondSet: {0} \u001b[0m#A   38  ASP  N  A   34  SER  O    1.71  140.5  129.2  -70.6  1.000 -0.190\n",
      "\u001b[0mcore.scoring.hbonds.HBondSet: {0} \u001b[0m#A   40  SER  N  A   38  ASP  O    1.73  147.9   92.8 -122.8  1.000 -0.048\n",
      "\u001b[0mcore.scoring.hbonds.HBondSet: {0} \u001b[0m#A   40  SER  OG A   41  GLN  OE1  2.12  126.8  105.2   18.2  0.506 -0.217\n",
      "\u001b[0mcore.scoring.hbonds.HBondSet: {0} \u001b[0m#A   41  GLN  N  A   40  SER  OG   1.84  115.1  111.8   15.2  0.506 -0.067\n",
      "\u001b[0mcore.scoring.hbonds.HBondSet: {0} \u001b[0m#A   45  LEU  N  A   41  GLN  O    2.36  162.3  161.7  160.8  1.000 -0.859\n",
      "\u001b[0mcore.scoring.hbonds.HBondSet: {0} \u001b[0m#A   46  LEU  N  A   42  SER  O    2.29  160.5  145.2 -128.2  1.000 -1.002\n",
      "\u001b[0mcore.scoring.hbonds.HBondSet: {0} \u001b[0m#A   48  GLU  N  A   44  ASN  O    2.36  157.8  148.4 -168.2  1.000 -1.160\n",
      "\u001b[0mcore.scoring.hbonds.HBondSet: {0} \u001b[0m#A   49  ALA  N  A   45  LEU  O    2.09  143.0  154.2  179.3  1.000 -0.987\n",
      "\u001b[0mcore.scoring.hbonds.HBondSet: {0} \u001b[0m#A   50  LYS  N  A   46  LEU  O    2.31  155.1  174.7  -69.8  1.000 -0.588\n",
      "\u001b[0mcore.scoring.hbonds.HBondSet: {0} \u001b[0m#A   51  LYS  N  A   47  ALA  O    2.41  144.8  142.8 -119.5  1.000 -0.367\n",
      "\u001b[0mcore.scoring.hbonds.HBondSet: {0} \u001b[0m#A   52  LEU  N  A   48  GLU  O    2.13  153.4  137.0 -134.7  1.000 -1.225\n",
      "\u001b[0mcore.scoring.hbonds.HBondSet: {0} \u001b[0m#A   53  ASN  N  A   49  ALA  O    1.90  146.3  157.1  160.1  1.000 -0.918\n",
      "\u001b[0mcore.scoring.hbonds.HBondSet: {0} \u001b[0m#A   54  ASP  N  A   50  LYS  O    1.88  159.7  145.6  -77.5  1.000 -0.913\n",
      "\u001b[0mcore.scoring.hbonds.HBondSet: {0} \u001b[0m#A   55  ALA  N  A   51  LYS  O    2.35  156.3  145.2  -96.6  1.000 -0.561\n",
      "\u001b[0mcore.scoring.hbonds.HBondSet: {0} \u001b[0m#A   56  GLN  N  A   52  LEU  O    2.45  160.5  126.5 -113.0  1.000 -0.612\n",
      "\u001b[0mcore.scoring.hbonds.HBondSet: {0} \u001b[0m#A   60  ALA  N  A   58  PRO  O    2.00  142.7   86.4 -119.2  1.000 -0.007\n",
      "A  OE1 with Atom ID (10,8) donated to a  N   with Atom ID(9, 1)\n",
      "A  O   with Atom ID (9,4) donated to a  N   with Atom ID(13, 1)\n",
      "A  O   with Atom ID (10,4) donated to a  N   with Atom ID(14, 1)\n",
      "A  O   with Atom ID (11,4) donated to a  N   with Atom ID(15, 1)\n",
      "A  O   with Atom ID (12,4) donated to a  N   with Atom ID(16, 1)\n",
      "A  O   with Atom ID (13,4) donated to a  N   with Atom ID(16, 1)\n",
      "A  O   with Atom ID (13,4) donated to a  N   with Atom ID(17, 1)\n",
      "A  O   with Atom ID (14,4) donated to a  N   with Atom ID(18, 1)\n",
      "A  O   with Atom ID (16,4) donated to a  N   with Atom ID(19, 1)\n",
      "A  O   with Atom ID (20,4) donated to a  N   with Atom ID(23, 1)\n",
      "A  OD1 with Atom ID (24,7) donated to a  N   with Atom ID(27, 1)\n",
      "A  O   with Atom ID (24,4) donated to a  N   with Atom ID(28, 1)\n",
      "A  OE2 with Atom ID (25,9) donated to a  NH2 with Atom ID(28, 11)\n",
      "A  O   with Atom ID (25,4) donated to a  N   with Atom ID(29, 1)\n",
      "A  O   with Atom ID (27,4) donated to a  N   with Atom ID(31, 1)\n",
      "A  O   with Atom ID (28,4) donated to a  N   with Atom ID(32, 1)\n",
      "A  O   with Atom ID (29,4) donated to a  N   with Atom ID(33, 1)\n",
      "A  O   with Atom ID (30,4) donated to a  N   with Atom ID(34, 1)\n",
      "A  O   with Atom ID (31,4) donated to a  N   with Atom ID(34, 1)\n",
      "A  O   with Atom ID (31,4) donated to a  N   with Atom ID(35, 1)\n",
      "A  O   with Atom ID (32,4) donated to a  N   with Atom ID(36, 1)\n",
      "A  O   with Atom ID (33,4) donated to a  N   with Atom ID(37, 1)\n",
      "A  O   with Atom ID (34,4) donated to a  N   with Atom ID(38, 1)\n",
      "A  O   with Atom ID (38,4) donated to a  N   with Atom ID(40, 1)\n",
      "A  OE1 with Atom ID (41,8) donated to a  OG  with Atom ID(40, 6)\n",
      "A  OG  with Atom ID (40,6) donated to a  N   with Atom ID(41, 1)\n",
      "A  O   with Atom ID (41,4) donated to a  N   with Atom ID(45, 1)\n",
      "A  O   with Atom ID (42,4) donated to a  N   with Atom ID(46, 1)\n",
      "A  O   with Atom ID (44,4) donated to a  N   with Atom ID(48, 1)\n",
      "A  O   with Atom ID (45,4) donated to a  N   with Atom ID(49, 1)\n",
      "A  O   with Atom ID (46,4) donated to a  N   with Atom ID(50, 1)\n",
      "A  O   with Atom ID (47,4) donated to a  N   with Atom ID(51, 1)\n",
      "A  O   with Atom ID (48,4) donated to a  N   with Atom ID(52, 1)\n",
      "A  O   with Atom ID (49,4) donated to a  N   with Atom ID(53, 1)\n",
      "A  O   with Atom ID (50,4) donated to a  N   with Atom ID(54, 1)\n",
      "A  O   with Atom ID (51,4) donated to a  N   with Atom ID(55, 1)\n",
      "A  O   with Atom ID (52,4) donated to a  N   with Atom ID(56, 1)\n",
      "A  O   with Atom ID (58,4) donated to a  N   with Atom ID(60, 1)\n"
     ]
    }
   ],
   "source": [
    "hbond_adj_list = test_prot.get_hbonds()\n",
    "test_prot.print_hbond_network()\n",
    "test_prot.print_hbond_adj_list(hbond_adj_list)"
   ]
  },
  {
   "cell_type": "code",
   "execution_count": 39,
   "metadata": {},
   "outputs": [],
   "source": [
    "# Displays protein\n",
    "#w = visualize_protein(psf_file, pdb_init_file, default=False, default_representation=False)\n",
    "#w.add_representation(\"ball+stick\")\n",
    "#w.add_representation(\"hyperball\")\n",
    "#w.add_representation(\"cartoon\")\n",
    "#w.add_representation(\"licorice\")\n",
    "#w.add_representation(\"line\")\n",
    "#w.add_representation(\"label\")\n",
    "#w.add_representation(\"spacefill\")\n",
    "#w.add_representation(\"surface\", surfaceType=\"sas\", color=\"hydrophobicity\")\n",
    "\n",
    "#w.add_representation(\"contact\")\n",
    "#w.add_representation(\"distance\")\n",
    "#w"
   ]
  },
  {
   "cell_type": "code",
   "execution_count": null,
   "metadata": {},
   "outputs": [],
   "source": [
    "plt.plot([0, 1, 2], [0, 1, 4])"
   ]
  }
 ],
 "metadata": {
  "kernelspec": {
   "display_name": "Python 3",
   "language": "python",
   "name": "python3"
  },
  "language_info": {
   "codemirror_mode": {
    "name": "ipython",
    "version": 3
   },
   "file_extension": ".py",
   "mimetype": "text/x-python",
   "name": "python",
   "nbconvert_exporter": "python",
   "pygments_lexer": "ipython3",
   "version": "3.8.6"
  }
 },
 "nbformat": 4,
 "nbformat_minor": 4
}
