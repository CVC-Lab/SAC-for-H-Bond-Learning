{
 "cells": [
  {
   "cell_type": "code",
   "execution_count": 1,
   "metadata": {},
   "outputs": [
    {
     "data": {
      "application/vnd.jupyter.widget-view+json": {
       "model_id": "0c2db6f4466f4f989ddf42ff7a83b8e1",
       "version_major": 2,
       "version_minor": 0
      },
      "text/plain": []
     },
     "metadata": {},
     "output_type": "display_data"
    },
    {
     "name": "stdout",
     "output_type": "stream",
     "text": [
      "Populating the interactive namespace from numpy and matplotlib\n"
     ]
    },
    {
     "name": "stderr",
     "output_type": "stream",
     "text": [
      "/home/conradli/miniconda3/envs/hbond/lib/python3.9/site-packages/IPython/core/magics/pylab.py:159: UserWarning: pylab import has clobbered these variables: ['random']\n",
      "`%matplotlib` prevents importing * from pylab and numpy\n",
      "  warn(\"pylab import has clobbered these variables: %s\"  % clobbered +\n"
     ]
    }
   ],
   "source": [
    "# Imports\n",
    "import os\n",
    "import sys\n",
    "import random\n",
    "import time\n",
    "import ipywidgets as widgets\n",
    "# ML Libraries\n",
    "import matplotlib.pyplot as plt\n",
    "import torch\n",
    "import torch.nn as nn\n",
    "import torch.functional as F\n",
    "# Protein Analysis Libaries\n",
    "import MDAnalysis as mda\n",
    "import nglview as nv\n",
    "# Custom Libraries\n",
    "from mol_processors.Protein import Prot\n",
    "from utils import write_array, tensors_to_batch_flat, batch_flat_to_tensors, tensors_to_flat, flat_to_tensors\n",
    "%pylab inline\n",
    "%load_ext autoreload \n",
    "%autoreload 2\n",
    "np.set_printoptions(suppress=True)"
   ]
  },
  {
   "cell_type": "markdown",
   "metadata": {},
   "source": [
    "# Widgets"
   ]
  },
  {
   "cell_type": "code",
   "execution_count": 2,
   "metadata": {},
   "outputs": [],
   "source": [
    "# Select all torsions\n",
    "torsion_select = widgets.Dropdown(\n",
    "    options=[\"all\", \"backbone\", \"sidechains\"],\n",
    "    value=\"all\",\n",
    "    description=\"Selection:\",\n",
    "    disabled=False,\n",
    ")"
   ]
  },
  {
   "cell_type": "markdown",
   "metadata": {},
   "source": [
    "# User-Specific Variables"
   ]
  },
  {
   "cell_type": "code",
   "execution_count": 3,
   "metadata": {},
   "outputs": [],
   "source": [
    "pdb_path = \"/home/conradli/SAC-for-H-Bond-Learning/data/pdb/1bdd.pdb\""
   ]
  },
  {
   "cell_type": "markdown",
   "metadata": {},
   "source": [
    "# Test Loading Proteins\n",
    "\n",
    "Also run this cell to reset the protein torsion angles"
   ]
  },
  {
   "cell_type": "code",
   "execution_count": 62,
   "metadata": {},
   "outputs": [
    {
     "name": "stdout",
     "output_type": "stream",
     "text": [
      "Total Residues: 60\n",
      "Number of Expected Torsion Angles: 420\n",
      "Torsion Angles Shape: (420,)\n",
      "Torsion Mask Shape: (420,)\n",
      "Number of Torsion Active Torsions: 242\n",
      "Atom Coords Shape: (941, 3)\n",
      "Atom Charges Shape: (941,)\n",
      "Atom Radii Shape: (941,)\n"
     ]
    }
   ],
   "source": [
    "protein = Prot(pdb_path)\n",
    "print(\"Total Residues:\", protein.total_res)\n",
    "print(\"Number of Expected Torsion Angles:\", protein.total_res * 7)\n",
    "print(\"Torsion Angles Shape:\", protein.torsion_angles.shape)\n",
    "print(\"Torsion Mask Shape:\", protein.torsion_mask.shape)\n",
    "print(\"Number of Torsion Active Torsions:\", np.sum(protein.torsion_mask == 1))\n",
    "print(\"Atom Coords Shape:\", protein.coords.shape)\n",
    "print(\"Atom Charges Shape:\", protein.charges.shape)\n",
    "print(\"Atom Radii Shape:\", protein.radii.shape)"
   ]
  },
  {
   "cell_type": "markdown",
   "metadata": {},
   "source": [
    "# Test Moving Torsion Angles"
   ]
  },
  {
   "cell_type": "code",
   "execution_count": 63,
   "metadata": {},
   "outputs": [
    {
     "data": {
      "application/vnd.jupyter.widget-view+json": {
       "model_id": "02da72f2c2b64867b39326d6725bce9a",
       "version_major": 2,
       "version_minor": 0
      },
      "text/plain": [
       "Dropdown(description='Selection:', index=2, options=('all', 'backbone', 'sidechains'), value='sidechains')"
      ]
     },
     "metadata": {},
     "output_type": "display_data"
    }
   ],
   "source": [
    "display(torsion_select)\n",
    "indices = protein.select_torsions(selection=torsion_select.value)"
   ]
  },
  {
   "cell_type": "code",
   "execution_count": 73,
   "metadata": {},
   "outputs": [
    {
     "data": {
      "application/vnd.jupyter.widget-view+json": {
       "model_id": "55df19e833864f1299a5b53932ef8aa6",
       "version_major": 2,
       "version_minor": 0
      },
      "text/plain": [
       "NGLWidget()"
      ]
     },
     "metadata": {},
     "output_type": "display_data"
    }
   ],
   "source": [
    "new_angles = protein.get_torsion_angles()[indices] + 90\n",
    "protein.set_torsion_angles(indices, new_angles)\n",
    "protein.update_cartcoords_from_intcoords()\n",
    "view = nv.show_biopython(protein.chain)\n",
    "view.add_licorice()\n",
    "# view.remove_cartoon()\n",
    "view"
   ]
  },
  {
   "cell_type": "code",
   "execution_count": null,
   "metadata": {},
   "outputs": [],
   "source": []
  },
  {
   "cell_type": "code",
   "execution_count": null,
   "metadata": {},
   "outputs": [],
   "source": []
  },
  {
   "cell_type": "code",
   "execution_count": null,
   "metadata": {},
   "outputs": [],
   "source": []
  }
 ],
 "metadata": {
  "kernelspec": {
   "display_name": "Python 3 (ipykernel)",
   "language": "python",
   "name": "python3"
  },
  "language_info": {
   "codemirror_mode": {
    "name": "ipython",
    "version": 3
   },
   "file_extension": ".py",
   "mimetype": "text/x-python",
   "name": "python",
   "nbconvert_exporter": "python",
   "pygments_lexer": "ipython3",
   "version": "3.9.7"
  }
 },
 "nbformat": 4,
 "nbformat_minor": 4
}
